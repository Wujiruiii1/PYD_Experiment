print("题目：现有一直杆A（BC）D，杆的横截面积为S=1000平方毫米，材料的弹性模量E=200000MPa,试求杆的各段的线应变及总变形量。（设FN为轴力、deltal为轴向变形量、xiangyingbian为线应变）")#直杆从左到右依次为ABCD
def FN_func(Fx,Fy,Fz):
    FN=Fx+Fy+Fz
    return FN  #FN为各段轴力，
print("FNab=FN_func(-10,0,0)->{}KN".format(FN_func(-10,0,0)))
print("FNbc=FN_func(-10,5,0)->{}KN".format(FN_func(-10,5,0)))
print("FNcd=FN_func(-10,5,20)->{}KN".format(FN_func(-10,5,20)))#结尾处的KN为牛力单位KN（千牛）
print("_"*50)
E=200000#E为弹性模量，单位为MPa(兆帕)
def delatl_func(F,l):
    delatl=(F*l)/E
    return delatl
print("deltalab=L_func(-10*1000,1)->{:.3f}mm".format(delatl_func(-10*1000,1)))
print("deltalbc=L_func(-5*1000,1)->{:.3f}mm".format(delatl_func(-5*1000,1)))
print("delatlcd=L_func(15*1000,1.5)->{:.3f}mm".format(delatl_func(15*1000,1.5)))#"*1000"为转换单位的步骤,delatlab、delatlbc、delatlcd为各段轴向变形量（伸长为正，缩短为负），单位mm（毫米）
print("_"*50)
def xiangyingbian(deltal,l):
    z=deltal/l
    return z
print("xiangyingbianAB(-0.05,1*1000)->{}".format(xiangyingbian(-0.050,1000)))
print("xiangyingbianBC(-0.025.1*1000)->{}".format(xiangyingbian(-0.025,1000)))
print("xiangyingbianCD(0.113,1*1500)->{}".format(xiangyingbian(0.113,1500)))#"*1000"为转换单位的步骤，xiangyingbian为线应变
print("_"*50)
def summation_func(l_ab,l_bc,l_cd):
    l_ad=l_ab+l_bc+l_cd
    return l_ad
print("l_ad=summation_func(-0.05,-0.025,0,113)->{:.3f}mm)".format(summation_func(-0.05,-0.025,0.113)))
































