{
 "cells": [
  {
   "cell_type": "code",
   "execution_count": 1,
   "id": "085c741e-0189-4eaf-b956-e0f38652946f",
   "metadata": {},
   "outputs": [
    {
     "name": "stdout",
     "output_type": "stream",
     "text": [
      "题目：现有一直杆A（BC）D，杆的横截面积为S=1000平方毫米，材料的弹性模量E=200000MPa,试求杆的各段的线应变及总变形量。（设FN为轴力、deltal为轴向变形量、xiangyingbian为线应变）\n",
      "FNab=FN_func(-10,0,0)->-10KN\n",
      "FNbc=FN_func(-10,5,0)->-5KN\n",
      "FNcd=FN_func(-10,5,20)->15KN\n",
      "__________________________________________________\n",
      "deltalab=L_func(-10*1000,1)->-0.050mm\n",
      "deltalbc=L_func(-5*1000,1)->-0.025mm\n",
      "delatlcd=L_func(15*1000,1.5)->0.113mm\n",
      "__________________________________________________\n",
      "xiangyingbianAB(-0.05,1*1000)->-5e-05\n",
      "xiangyingbianBC(-0.025.1*1000)->-2.5e-05\n",
      "xiangyingbianCD(0.113,1*1500)->7.533333333333334e-05\n",
      "__________________________________________________\n",
      "l_ad=summation_func(-0.05,-0.025,0,113)->0.038mm)\n"
     ]
    }
   ],
   "source": [
    "#1.定义函数FN_func，返回FN,求得各段轴力\n",
    "#2.定义函数delatl=(F*l)/E，返回deltalab=L_func,求得各段变形量\n",
    "#3.定义函数z=deltal/l，返回z,求得各段线应变\n",
    "#4.利用SUM函数求总变形量\n",
    "print(\"题目：现有一直杆A（BC）D，杆的横截面积为S=1000平方毫米，材料的弹性模量E=200000MPa,试求杆的各段的线应变及总变形量。（设FN为轴力、deltal为轴向变形量、xiangyingbian为线应变）\")#直杆从左到右依次为ABCD\n",
    "def FN_func(Fx,Fy,Fz):\n",
    "    FN=Fx+Fy+Fz\n",
    "    return FN  #FN为各段轴力，\n",
    "print(\"FNab=FN_func(-10,0,0)->{}KN\".format(FN_func(-10,0,0)))\n",
    "print(\"FNbc=FN_func(-10,5,0)->{}KN\".format(FN_func(-10,5,0)))\n",
    "print(\"FNcd=FN_func(-10,5,20)->{}KN\".format(FN_func(-10,5,20)))#结尾处的KN为牛力单位KN（千牛）\n",
    "print(\"_\"*50)\n",
    "E=200000#E为弹性模量，单位为MPa(兆帕)\n",
    "def delatl_func(F,l):\n",
    "    delatl=(F*l)/E\n",
    "    return delatl\n",
    "print(\"deltalab=L_func(-10*1000,1)->{:.3f}mm\".format(delatl_func(-10*1000,1)))\n",
    "print(\"deltalbc=L_func(-5*1000,1)->{:.3f}mm\".format(delatl_func(-5*1000,1)))\n",
    "print(\"delatlcd=L_func(15*1000,1.5)->{:.3f}mm\".format(delatl_func(15*1000,1.5)))#\"*1000\"为转换单位的步骤,delatlab、delatlbc、delatlcd为各段轴向变形量（伸长为正，缩短为负），单位mm（毫米）\n",
    "print(\"_\"*50)\n",
    "def xiangyingbian(deltal,l):\n",
    "    z=deltal/l\n",
    "    return z\n",
    "print(\"xiangyingbianAB(-0.05,1*1000)->{}\".format(xiangyingbian(-0.050,1000)))\n",
    "print(\"xiangyingbianBC(-0.025.1*1000)->{}\".format(xiangyingbian(-0.025,1000)))\n",
    "print(\"xiangyingbianCD(0.113,1*1500)->{}\".format(xiangyingbian(0.113,1500)))#\"*1000\"为转换单位的步骤，xiangyingbian为线应变\n",
    "print(\"_\"*50)\n",
    "def summation_func(l_ab,l_bc,l_cd):\n",
    "    l_ad=l_ab+l_bc+l_cd\n",
    "    return l_ad\n",
    "print(\"l_ad=summation_func(-0.05,-0.025,0,113)->{:.3f}mm)\".format(summation_func(-0.05,-0.025,0.113)))\n"
   ]
  },
  {
   "cell_type": "code",
   "execution_count": null,
   "id": "a2f4ca64-1962-4b8e-9b1c-2ce77abfeea0",
   "metadata": {},
   "outputs": [],
   "source": []
  }
 ],
 "metadata": {
  "kernelspec": {
   "display_name": "Python 3",
   "language": "python",
   "name": "python3"
  },
  "language_info": {
   "codemirror_mode": {
    "name": "ipython",
    "version": 3
   },
   "file_extension": ".py",
   "mimetype": "text/x-python",
   "name": "python",
   "nbconvert_exporter": "python",
   "pygments_lexer": "ipython3",
   "version": "3.8.8"
  }
 },
 "nbformat": 4,
 "nbformat_minor": 5
}
